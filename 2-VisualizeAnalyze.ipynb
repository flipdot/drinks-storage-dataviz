{
 "cells": [
  {
   "cell_type": "markdown",
   "metadata": {},
   "source": [
    "# Data Visualization and Analysis for the Drinks Storage project\n",
    "This notebook visualizes and analyzes data from two unified sources: Git and Grafana.\n",
    "### Prepare libraries and data"
   ]
  },
  {
   "cell_type": "code",
   "execution_count": 1,
   "metadata": {},
   "outputs": [],
   "source": [
    "%config InlineBackend.figure_formats = ['svg']"
   ]
  },
  {
   "cell_type": "code",
   "execution_count": 2,
   "metadata": {},
   "outputs": [],
   "source": [
    "import numpy as np\n",
    "import pandas as pd\n",
    "import seaborn as sns\n",
    "import pylab as plt\n",
    "\n",
    "import matplotlib.gridspec as gridspec\n",
    "import matplotlib.dates as dates\n",
    "from IPython.display import HTML, display\n",
    "import tabulate"
   ]
  },
  {
   "cell_type": "code",
   "execution_count": 3,
   "metadata": {},
   "outputs": [],
   "source": [
    "#PLT_FIGSIZE = (14, 4) # Without SVGs\n",
    "PLT_FIGSIZE = (10, 3.5) # With SVGs\n",
    "PLT_GS_W = 5\n",
    "PLT_DPI = 250\n",
    "PLT_ALPHA_MAX = .3\n",
    "PLT_ALPHA_SCALE = .3\n",
    "PLT_DATE_FMT = dates.DateFormatter('%Y-%m-%d')\n",
    "DSV_DIR = 'data'\n",
    "DSV_DELIMITER = ';'\n",
    "DSV_GIT = f'{DSV_DIR}/drinks-storage-git.dsv'\n",
    "DSV_GRAFANA_RAW = f'{DSV_DIR}/drinks-storage-grafana-raw.dsv'\n",
    "DSV_GRAFANA_CRATES = f'{DSV_DIR}/drinks-storage-grafana-crates.dsv'\n",
    "SEG_CUTOFF_SECONDS = 60 # Cutoff for individual segments in seconds\n",
    "SEG_CUTOFF_SAMPLES = 8 # Cutoff for individual segments in number of samples\n",
    "SEG_SIGNIFICANCE = 1.9 # Factor for std to be seen as significant for segmentation\n",
    "SEG_MIN_STD = 1000 # Minimum std to cap outliers\n",
    "DS_CRATE_KG = 24000 # Raw units for 1kg (rough estimate)"
   ]
  },
  {
   "cell_type": "code",
   "execution_count": 4,
   "metadata": {},
   "outputs": [],
   "source": [
    "sns.set_style(\"whitegrid\")"
   ]
  },
  {
   "cell_type": "code",
   "execution_count": 5,
   "metadata": {},
   "outputs": [],
   "source": [
    "def newfig(fig_height=1):\n",
    "    return plt.figure(dpi=PLT_DPI,\n",
    "                      figsize=(PLT_FIGSIZE[0], PLT_FIGSIZE[1] * fig_height))"
   ]
  },
  {
   "cell_type": "code",
   "execution_count": 6,
   "metadata": {},
   "outputs": [
    {
     "name": "stdout",
     "output_type": "stream",
     "text": [
      "['apfelschorle' 'becks' 'eschweger' 'jacobinus' 'jever' 'mineralwasser'\n",
      " 'mio_banane' 'mio_ginger' 'mio_mate' 'radler' 'koestritzer' 'mio_cola'\n",
      " 'jever_fun' 'grapefruit_sprudel']\n",
      "14\n"
     ]
    }
   ],
   "source": [
    "# Dataframe gIt\n",
    "di = pd.read_csv(DSV_GIT, sep=DSV_DELIMITER, na_values='None')\n",
    "print(di.name.unique())\n",
    "print(len(di.name.unique()))"
   ]
  },
  {
   "cell_type": "code",
   "execution_count": 7,
   "metadata": {},
   "outputs": [
    {
     "name": "stdout",
     "output_type": "stream",
     "text": [
      "['mio_cola' 'mio_mate' 'mio_ginger' 'apfelschorle' 'jever_fun'\n",
      " 'mineralwasser' 'grapefruit_sprudel']\n",
      "7\n"
     ]
    }
   ],
   "source": [
    "# Dataframe Grafana Raw\n",
    "dgr = pd.read_csv(DSV_GRAFANA_RAW, sep=DSV_DELIMITER, na_values='None')\n",
    "print(dgr.name.unique())\n",
    "print(len(dgr.name.unique()))"
   ]
  },
  {
   "cell_type": "code",
   "execution_count": 8,
   "metadata": {},
   "outputs": [
    {
     "name": "stdout",
     "output_type": "stream",
     "text": [
      "['becks' 'eschweger' 'jacobinus' 'jever' 'radler' 'koestritzer'\n",
      " 'mio_guarana' 'mio_cola' 'mio_mate' 'mio_ginger' 'apfelschorle'\n",
      " 'jever_fun' 'mineralwasser' 'grapefruit_sprudel']\n",
      "14\n"
     ]
    }
   ],
   "source": [
    "# Dataframe Grafana Crates\n",
    "dgc = pd.read_csv(DSV_GRAFANA_CRATES, sep=DSV_DELIMITER, na_values='None')\n",
    "# Drop total crate count\n",
    "dgc = dgc.loc[dgc.name != 'Total']\n",
    "print(dgc.name.unique())\n",
    "print(len(dgc.name.unique()))"
   ]
  },
  {
   "cell_type": "markdown",
   "metadata": {},
   "source": [
    "#### Histograms\n",
    "Visualize occurences of values for each scale."
   ]
  },
  {
   "cell_type": "code",
   "execution_count": null,
   "metadata": {},
   "outputs": [],
   "source": [
    "fig = newfig(fig_height=2)\n",
    "iter_data = dgc.groupby('name').value\n",
    "gs = gridspec.GridSpec(round(len(iter_data) / PLT_GS_W), PLT_GS_W, hspace=.5)\n",
    "fig.suptitle('Histogram of individual crate counts for individual measurements')\n",
    "for i, (name, values) in enumerate(iter_data):\n",
    "    x = i % PLT_GS_W\n",
    "    y = i // PLT_GS_W\n",
    "    ax = plt.subplot(gs[y, x])\n",
    "    values.hist(color=f'C{i}')#, bins=range(0, 10))\n",
    "    plt.title(name)\n",
    "    plt.ylabel('count')\n",
    "    plt.xlabel('crates')\n",
    "plt.show()"
   ]
  },
  {
   "cell_type": "code",
   "execution_count": null,
   "metadata": {},
   "outputs": [],
   "source": [
    "# Faulty (value == -1) percentage\n",
    "table = [['<b>name</b>', '<b>faulty % time</b>']]\n",
    "for i, (name, values) in enumerate(iter_data):\n",
    "    fault = values.value_counts().loc[-1]\n",
    "    total = values.value_counts().sum()\n",
    "    percentage = f'{fault / total * 100:.2f}'\n",
    "    table.append([name, percentage])\n",
    "    \n",
    "# Mark outliers beyond pi times std\n",
    "percentages = []\n",
    "for name, percentage in table[1:]:\n",
    "    percentages.append(float(percentage))\n",
    "percentages = np.array(percentages)\n",
    "threshold = np.std(percentages) * np.pi\n",
    "for i, (name, percentage) in enumerate(table[1:]):\n",
    "    if float(percentage) > threshold:\n",
    "        table[i + 1][1] = f'<b>{percentage}</b>'\n",
    "\n",
    "display(HTML('<h3>Faulty scales</h3>'))\n",
    "display(HTML(tabulate.tabulate(table, tablefmt='html')))"
   ]
  },
  {
   "cell_type": "markdown",
   "metadata": {},
   "source": [
    "## Time Series Segmentation"
   ]
  },
  {
   "cell_type": "code",
   "execution_count": null,
   "metadata": {},
   "outputs": [],
   "source": [
    "def plot_segmentation(name, values, surpass_idx, seg_ts, seg_ts_filt):\n",
    "    fig, ax = plt.subplots(figsize=PLT_FIGSIZE, dpi=PLT_DPI)\n",
    "    plt.plot(\n",
    "        dates.epoch2num(values.ts),\n",
    "        diff,\n",
    "        label='raw sensor data (1st derivative)',\n",
    "    )\n",
    "    plt.hlines(\n",
    "        threshold,\n",
    "        dates.epoch2num(values.iloc[0].ts),\n",
    "        dates.epoch2num(values.iloc[-1].ts),\n",
    "        color='C3',\n",
    "        label='threshold',\n",
    "    )\n",
    "    plt.vlines(\n",
    "        dates.epoch2num(seg_ts),\n",
    "        0,\n",
    "        diff.loc[surpass_idx].max(),\n",
    "        color='C4',\n",
    "        label='segments',\n",
    "    )\n",
    "    plt.vlines(\n",
    "        dates.epoch2num(seg_ts_filt),\n",
    "        0,\n",
    "        diff.loc[surpass_idx].max(),\n",
    "        color='C7',\n",
    "        label='segments (filtered)',\n",
    "    )\n",
    "    plt.plot(\n",
    "        dates.epoch2num(values.loc[surpass_idx].ts),\n",
    "        diff.loc[surpass_idx],\n",
    "        'o',\n",
    "        label='values surpassing threshold',\n",
    "    )\n",
    "    plt.title(name)\n",
    "    ax.xaxis.set_major_formatter(PLT_DATE_FMT)\n",
    "    plt.legend()\n",
    "    plt.show()"
   ]
  },
  {
   "cell_type": "code",
   "execution_count": null,
   "metadata": {},
   "outputs": [],
   "source": [
    "# 1. Segmentation based on high change (first derivative)\n",
    "# Dataframe SEGmentation\n",
    "dseg = pd.DataFrame(columns=['name', 'ts_start', 'ts_end'])\n",
    "iter_data = dgr.groupby('name')\n",
    "j = 0\n",
    "#cutoff_seconds = SEG_CUTOFF_SECONDS\n",
    "significance = SEG_SIGNIFICANCE\n",
    "for i, (name, values) in enumerate(iter_data):\n",
    "    diff = values.value.diff().abs()\n",
    "    threshold = diff.std() * significance\n",
    "    surpass_idx = diff.loc[diff > threshold].index\n",
    "    seg_ts = values.loc[surpass_idx].ts\n",
    "    # # Set minimum length for segments and filter too short segments\n",
    "    # seg_min_len = seg_ts.diff().value_counts().index[0]\n",
    "    # seg_ts_filt = seg_ts.loc[seg_ts.diff() > seg_min_len]\n",
    "    # Filtering would omit important segments\n",
    "    seg_ts_filt = seg_ts\n",
    "    # Visualize segmentation process\n",
    "    # plot_segmentation(name, values, surpass_idx, seg_ts, seg_ts_filt)\n",
    "    \n",
    "    # Storing of segments\n",
    "    ts_first = values.ts.min()\n",
    "    ts_last = values.ts.max()\n",
    "    ts_prev = seg_ts_filt.iloc[0]\n",
    "    #dseg.loc[j] = [name, ts_first + cutoff_seconds, ts_prev - cutoff_seconds]\n",
    "    dseg.loc[j] = [name, ts_first, ts_prev]\n",
    "    j += 1\n",
    "    for ts in seg_ts_filt.iloc[1:]:\n",
    "        #dseg.loc[j] = [name, ts_prev + cutoff_seconds, ts - cutoff_seconds]\n",
    "        dseg.loc[j] = [name, ts_prev, ts]\n",
    "        ts_prev = ts\n",
    "        j += 1\n",
    "    #dseg.loc[j] = [name, ts + cutoff_seconds, ts_last - cutoff_seconds]\n",
    "    dseg.loc[j] = [name, ts, ts_last]"
   ]
  },
  {
   "cell_type": "code",
   "execution_count": null,
   "metadata": {},
   "outputs": [],
   "source": [
    "def plot_segments(name, seg_values):\n",
    "    # Visualization (Part 1)\n",
    "    x_min = seg_values.index.min()\n",
    "    x_max = seg_values.index.max()\n",
    "    \n",
    "    newfig()\n",
    "    plt.title(f'{name} (raw signal)')\n",
    "    (seg_values.value.abs() / DS_CRATE_KG).plot()\n",
    "    plt.legend()\n",
    "    \n",
    "    newfig()\n",
    "    seg_values.value.diff().plot()\n",
    "    plt.hlines(seg_values.value.diff().mean(), 0, x_max, color='C1', label='mean')\n",
    "\n",
    "    # Show std if spikes overshoot minimum threshold\n",
    "    threshold = seg_values.value.diff().std() * np.pi\n",
    "    # if threshold > SEG_MIN_STD:\n",
    "    plt.hlines(threshold, 0, x_max, color='C2', label='std * π')\n",
    "    plt.hlines(-threshold, 0, x_max, color='C2', label='-std * π')\n",
    "\n",
    "    # Visualization (Part 2)\n",
    "    plt.title(f'{name} (1st derivative)')\n",
    "    plt.legend()\n",
    "    plt.show()"
   ]
  },
  {
   "cell_type": "code",
   "execution_count": null,
   "metadata": {},
   "outputs": [],
   "source": [
    "# 2. Statistical properties (std, mean, ...)\n",
    "cutoff_samples = SEG_CUTOFF_SAMPLES\n",
    "dseg['std'] = 0\n",
    "for i, (name, values) in enumerate(dseg.groupby('name')):\n",
    "    for j, row in values.iterrows():\n",
    "        # Boundary conditions for segments\n",
    "        c_name = dgr.name == name\n",
    "        c_ts_start = dgr.ts > row.ts_start\n",
    "        c_ts_end = dgr.ts < row.ts_end\n",
    "        seg_values = dgr[c_name & c_ts_start & c_ts_end]\n",
    "        \n",
    "        # Discard segment if length less than total cutoff (left/right)\n",
    "        # or no data at all\n",
    "        if len(seg_values) <= cutoff_samples * 2:\n",
    "            continue\n",
    "        \n",
    "        # Cut off number of samples\n",
    "        seg_values = seg_values.iloc[cutoff_samples:-cutoff_samples]\n",
    "        \n",
    "        # Add new std value for time series segments\n",
    "        dseg.at[j, 'std'] = seg_values.value.std()\n",
    "        \n",
    "        # Visualize\n",
    "        # plot_segments(name, seg_values)"
   ]
  },
  {
   "cell_type": "code",
   "execution_count": null,
   "metadata": {},
   "outputs": [],
   "source": [
    "# Visualize history\n",
    "display(HTML('<h3>Development of standard deviation over time (segment based)</h3>'))\n",
    "for i, (name, values) in enumerate(dseg.groupby('name')):\n",
    "    # Collect relevant data\n",
    "    filter_name = values.name == name\n",
    "    filter_std = values['std'] > 0\n",
    "    values_relevant = values.loc[filter_name & filter_std]\n",
    "    \n",
    "    # Visualize\n",
    "    fig, ax = plt.subplots(figsize=PLT_FIGSIZE, dpi=PLT_DPI)\n",
    "    ts_mean = (values_relevant.ts_end - values_relevant.ts_start) // 2 + values_relevant.ts_start,\n",
    "    plt.title(name)\n",
    "    plt.ylabel('std for segment')\n",
    "    plt.scatter(\n",
    "        dates.epoch2num(ts_mean),\n",
    "        values_relevant['std'],\n",
    "        c=f'C{i}',\n",
    "    )\n",
    "    plt.hlines(\n",
    "        values_relevant['std'],\n",
    "        dates.epoch2num(values_relevant.ts_end),\n",
    "        dates.epoch2num(values_relevant.ts_start),\n",
    "        color=f'C{i}',\n",
    "        linestyles='--',\n",
    "    )\n",
    "    ax.xaxis.set_major_formatter(PLT_DATE_FMT)\n",
    "    plt.show()"
   ]
  },
  {
   "cell_type": "markdown",
   "metadata": {},
   "source": [
    "#### Conclusion\n",
    "Standard deviation has not increased over the last three months. This hints that the sensors did not develop or increase noise levels within that time frame. Sensor drift still may have developed earlier on and has to be analyzed."
   ]
  },
  {
   "cell_type": "markdown",
   "metadata": {},
   "source": [
    " "
   ]
  }
 ],
 "metadata": {
  "kernelspec": {
   "display_name": "Python 3",
   "language": "python",
   "name": "python3"
  },
  "language_info": {
   "codemirror_mode": {
    "name": "ipython",
    "version": 3
   },
   "file_extension": ".py",
   "mimetype": "text/x-python",
   "name": "python",
   "nbconvert_exporter": "python",
   "pygments_lexer": "ipython3",
   "version": "3.7.3"
  }
 },
 "nbformat": 4,
 "nbformat_minor": 4
}
