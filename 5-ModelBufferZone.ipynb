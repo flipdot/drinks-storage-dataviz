{
 "cells": [
  {
   "cell_type": "markdown",
   "metadata": {},
   "source": [
    "# Modelling the buffer zone\n",
    "\n",
    "The hackerspace's beverage warehousing is realized through the following two stages:\n",
    "\n",
    "1. **Drinks storage** in the cellar\n",
    "  * Drinks are stored on single-origin stacks\n",
    "2. **Buffer zone** in the hackerspace's lounge\n",
    "  * Drinks are stored in a shelf\n",
    "  * Drinks are stored and cooled in a refrigerator\n",
    "  * Both storage options' withdrawal are monitored using the **drinks scanner** system\n",
    "    * Individual withdrawal is mapped by scan events\n",
    "\n",
    "This notebook tries to model the state of the **buffer zone** using data from the following sources:\n",
    "\n",
    "1. **Drinks storage**'s withdrawal\n",
    "  * Crates that are taken from the **drinks storage** to the **buffer zone** can be detected using the negative part of the derivative of individual beverages' crate count (*fill state*).\n",
    "2. **Buffer zone**'s withdrawal\n",
    "  * Estimate *fill state* using the primitive of individual beverages' withdrawals\n",
    "  * Set *fill state* to zero at the timestamp of the last scan event before restocking from the **drinks storage**."
   ]
  },
  {
   "cell_type": "code",
   "execution_count": 1,
   "metadata": {},
   "outputs": [],
   "source": [
    "# Finish conceptual sketch first"
   ]
  },
  {
   "cell_type": "markdown",
   "metadata": {},
   "source": [
    " "
   ]
  }
 ],
 "metadata": {
  "kernelspec": {
   "display_name": "Python 3",
   "language": "python",
   "name": "python3"
  },
  "language_info": {
   "codemirror_mode": {
    "name": "ipython",
    "version": 3
   },
   "file_extension": ".py",
   "mimetype": "text/x-python",
   "name": "python",
   "nbconvert_exporter": "python",
   "pygments_lexer": "ipython3",
   "version": "3.7.3"
  }
 },
 "nbformat": 4,
 "nbformat_minor": 4
}
